{
 "cells": [
  {
   "cell_type": "markdown",
   "metadata": {},
   "source": [
    "# Configure IoT Hub\n",
    "\n",
    "This small notebook is intended to guide developpers through a quick set up of an Azure IoT hub.\n",
    "\n",
    "## Requirements:\n",
    "* [Azure CLI](https://docs.microsoft.com/en-us/cli/azure/install-azure-cli?view=azure-cli-latest) in order to use az commands"
   ]
  },
  {
   "cell_type": "code",
   "execution_count": null,
   "metadata": {},
   "outputs": [],
   "source": [
    "# Log into your azure portal, this will give you some info about your Azure account\n",
    "!az login"
   ]
  },
  {
   "cell_type": "code",
   "execution_count": null,
   "metadata": {},
   "outputs": [],
   "source": [
    "# Enter the resource group in Azure where you want to provision the resources \n",
    "resource_group_name = \"\"\n",
    "\n",
    "# Enter Azure region where your services will be provisioned, for example \"northeurope\"\n",
    "azure_region = \"\"\n",
    "\n",
    "# Enter your Azure IoT Hub name \n",
    "# If you don't have an IoT Hub, pick a name to make a new one \n",
    "iot_hub_name = \"\"\n",
    "\n",
    "# Enter your IoT Edge device ID \n",
    "# If you don't have an IoT Edge device registered, pick a name to create a new one \n",
    "# This is NOT the name of your VM, but it's just an entry in your IoT Hub, so you can pick any name\n",
    "iot_device_id = \"\""
   ]
  },
  {
   "cell_type": "code",
   "execution_count": null,
   "metadata": {},
   "outputs": [],
   "source": [
    "# Add to Azure CLI the IoT extension\n",
    "!az extension add --name azure-cli-iot-ext"
   ]
  },
  {
   "cell_type": "code",
   "execution_count": null,
   "metadata": {},
   "outputs": [],
   "source": [
    "# If you have not created a resource group yet, run this cell\n",
    "!az group create --name resource_group_name --location azure_region"
   ]
  },
  {
   "cell_type": "code",
   "execution_count": null,
   "metadata": {},
   "outputs": [],
   "source": [
    "# Create an IoT Hub (you can change the size and scale of your IoT, here S1)\n",
    "!az iot hub create --resource-group resource_group_name --name iot_hub_name --sku S1"
   ]
  },
  {
   "cell_type": "code",
   "execution_count": null,
   "metadata": {},
   "outputs": [],
   "source": [
    "# Create an ID for the edge device\n",
    "!az iot hub device-identity create --hub-name iot_hub_name --device-id iot_device_id --edge-enabled\n",
    "# IMPORTANT: the output of this cell contain a device-specific connection string that we will need to save for the next steps"
   ]
  }
 ],
 "metadata": {
  "kernelspec": {
   "display_name": "Python 3",
   "language": "python",
   "name": "python3"
  },
  "language_info": {
   "codemirror_mode": {
    "name": "ipython",
    "version": 3
   },
   "file_extension": ".py",
   "mimetype": "text/x-python",
   "name": "python",
   "nbconvert_exporter": "python",
   "pygments_lexer": "ipython3",
   "version": "3.7.3"
  }
 },
 "nbformat": 4,
 "nbformat_minor": 2
}
